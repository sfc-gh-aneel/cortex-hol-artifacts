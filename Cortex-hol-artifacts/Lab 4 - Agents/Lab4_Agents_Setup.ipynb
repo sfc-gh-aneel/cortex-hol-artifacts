{
  "cells": [
    {
      "cell_type": "markdown",
      "metadata": {},
      "source": [
        "# Lab 4 - Cortex Agents Setup\n",
        "\n",
        "This notebook creates Snowflake Cortex Agents for the services built in Labs 1-3 and sets up an email agent for Snowflake Intelligence summaries.\n",
        "\n",
        "## What We'll Create\n",
        "- **LAB1_SEARCH_AGENT**: Agent for Lab 1 Cortex Search service (document search)\n",
        "- **LAB2_ANALYST_AGENT**: Agent for Lab 2 Cortex Analyst service (wealth management analytics)\n",
        "- **LAB3_SEARCH_AGENT**: Agent for Lab 3 Cortex Search service (multimodal document parsing)\n",
        "- **Email Infrastructure**: Stored procedure and scheduled task for Snowflake Intelligence summaries\n",
        "\n",
        "## Prerequisites\n",
        "- Completed Labs 1, 2, and 3 with their respective Cortex services\n",
        "- Appropriate privileges to create agents, procedures, and tasks\n",
        "- Email notification integration configured (for email functionality)\n",
        "\n",
        "## References\n",
        "- [Cortex Agents Documentation](https://docs.snowflake.com/en/user-guide/snowflake-cortex/cortex-agents)\n",
        "- [Snowflake Intelligence Overview](https://docs.snowflake.com/en/user-guide/snowflake-cortex/snowflake-intelligence)\n",
        "- [Snowflake Intelligence Tools](https://github.com/snowflake-procs-tg/snowflake-intelligence-tools/tree/main)\n"
      ]
    },
    {
      "cell_type": "markdown",
      "metadata": {},
      "source": [
        "## 1. Configuration\n",
        "\n",
        "First, let's set up our configuration and discover existing services from the previous labs.\n"
      ]
    },
    {
      "cell_type": "code",
      "execution_count": null,
      "metadata": {},
      "outputs": [],
      "source": [
        "# Configuration - Update these values as needed\n",
        "WAREHOUSE = \"CORTEX_SEARCH_TUTORIAL_WH\"\n",
        "ROLE = \"SYSADMIN\"\n",
        "\n",
        "# Lab 1 - Search Service Configuration\n",
        "LAB1_DATABASE = \"CORTEX_SEARCH_TUTORIAL_DB\"\n",
        "LAB1_SCHEMA = \"PUBLIC\"\n",
        "LAB1_SEARCH_SERVICE = \"DOCUMENT_SEARCH_SERVICE\"\n",
        "\n",
        "# Lab 2 - Analyst Service Configuration\n",
        "LAB2_DATABASE = \"CORTEX_ANALYST_DEMO\"\n",
        "LAB2_SCHEMA = \"WEALTH_MANAGEMENT\"\n",
        "LAB2_ANALYST_SERVICE = \"WEALTH_ANALYST_SERVICE\"\n",
        "\n",
        "# Lab 3 - Search Service Configuration\n",
        "LAB3_DATABASE = \"CORTEX_SEARCH_TUTORIAL_DB\"\n",
        "LAB3_SCHEMA = \"PUBLIC\"\n",
        "LAB3_SEARCH_SERVICE = \"DOCS_SEARCH_SERVICE\"\n",
        "\n",
        "# Email Configuration (optional)\n",
        "EMAIL_ENABLED = True\n",
        "EMAIL_INTEGRATION = \"YOUR_EMAIL_INTEGRATION\"  # Update with your integration name\n",
        "EMAIL_RECIPIENT = \"recipient@example.com\"     # Update with recipient email\n",
        "EMAIL_SCHEDULE = \"USING CRON 0 9 * * * UTC\"   # Daily at 9 AM UTC\n",
        "\n",
        "print(\"Configuration loaded successfully!\")\n",
        "print(f\"Warehouse: {WAREHOUSE}\")\n",
        "print(f\"Role: {ROLE}\")\n"
      ]
    },
    {
      "cell_type": "markdown",
      "metadata": {},
      "source": [
        "## 2. Environment Setup\n",
        "\n",
        "Set up the Snowflake environment and verify our services exist.\n"
      ]
    },
    {
      "cell_type": "code",
      "execution_count": null,
      "metadata": {
        "vscode": {
          "languageId": "sql"
        }
      },
      "outputs": [],
      "source": [
        "-- Set up environment\n",
        "USE ROLE IDENTIFIER($ROLE);\n",
        "USE WAREHOUSE IDENTIFIER($WAREHOUSE);\n",
        "\n",
        "SELECT 'Environment setup complete' as status;\n"
      ]
    },
    {
      "cell_type": "markdown",
      "metadata": {},
      "source": [
        "## 3. Create Cortex Agents\n",
        "\n",
        "Now let's create the Cortex Agents for each of our services. Agents provide a unified interface to interact with Cortex services through Snowflake Intelligence.\n",
        "\n",
        "### 3.1 Lab 1 Search Agent\n",
        "\n",
        "This agent will handle document search queries from Lab 1's Cortex Search service.\n"
      ]
    },
    {
      "cell_type": "code",
      "execution_count": null,
      "metadata": {
        "vscode": {
          "languageId": "sql"
        }
      },
      "outputs": [],
      "source": [
        "-- Create Lab 1 Search Agent\n",
        "CREATE OR REPLACE AGENT LAB1_SEARCH_AGENT\n",
        "USING 'Cortex Search'\n",
        "WITH PARAMETERS (\n",
        "  'service_name' = $LAB1_SEARCH_SERVICE,\n",
        "  'database' = $LAB1_DATABASE,\n",
        "  'schema' = $LAB1_SCHEMA\n",
        ");\n",
        "\n",
        "SELECT 'Lab 1 Search Agent created successfully' as status;\n"
      ]
    },
    {
      "cell_type": "markdown",
      "metadata": {},
      "source": [
        "### 3.2 Lab 2 Analyst Agent\n",
        "\n",
        "This agent will handle wealth management analytics queries using the Cortex Analyst service from Lab 2.\n"
      ]
    },
    {
      "cell_type": "code",
      "execution_count": null,
      "metadata": {
        "vscode": {
          "languageId": "sql"
        }
      },
      "outputs": [],
      "source": [
        "-- Create Lab 2 Analyst Agent\n",
        "CREATE OR REPLACE AGENT LAB2_ANALYST_AGENT\n",
        "USING 'Cortex Analyst'\n",
        "WITH PARAMETERS (\n",
        "  'service_name' = $LAB2_ANALYST_SERVICE,\n",
        "  'database' = $LAB2_DATABASE,\n",
        "  'schema' = $LAB2_SCHEMA\n",
        ");\n",
        "\n",
        "SELECT 'Lab 2 Analyst Agent created successfully' as status;\n"
      ]
    },
    {
      "cell_type": "markdown",
      "metadata": {},
      "source": [
        "### 3.3 Lab 3 Search Agent\n",
        "\n",
        "This agent will handle multimodal document parsing queries from Lab 3's enhanced Cortex Search service.\n"
      ]
    },
    {
      "cell_type": "code",
      "execution_count": null,
      "metadata": {
        "vscode": {
          "languageId": "sql"
        }
      },
      "outputs": [],
      "source": [
        "-- Create Lab 3 Search Agent\n",
        "CREATE OR REPLACE AGENT LAB3_SEARCH_AGENT\n",
        "USING 'Cortex Search'\n",
        "WITH PARAMETERS (\n",
        "  'service_name' = $LAB3_SEARCH_SERVICE,\n",
        "  'database' = $LAB3_DATABASE,\n",
        "  'schema' = $LAB3_SCHEMA\n",
        ");\n",
        "\n",
        "SELECT 'Lab 3 Search Agent created successfully' as status;\n"
      ]
    },
    {
      "cell_type": "markdown",
      "metadata": {},
      "source": [
        "## 4. Verify Agent Creation\n",
        "\n",
        "Let's verify that all our agents were created successfully.\n"
      ]
    },
    {
      "cell_type": "code",
      "execution_count": null,
      "metadata": {
        "vscode": {
          "languageId": "sql"
        }
      },
      "outputs": [],
      "source": [
        "-- Show all agents we just created\n",
        "SHOW AGENTS LIKE '%LAB%_AGENT';\n"
      ]
    },
    {
      "cell_type": "markdown",
      "metadata": {},
      "source": [
        "## 5. Email Infrastructure for Snowflake Intelligence\n",
        "\n",
        "Now let's set up the email infrastructure to send periodic summaries of Snowflake Intelligence analyses.\n",
        "\n",
        "### 5.1 Create Email Stored Procedure\n",
        "\n",
        "This procedure will gather analysis summaries and send them via email.\n"
      ]
    },
    {
      "cell_type": "code",
      "execution_count": null,
      "metadata": {
        "vscode": {
          "languageId": "sql"
        }
      },
      "outputs": [],
      "source": [
        "-- Create stored procedure for sending analysis emails\n",
        "CREATE OR REPLACE PROCEDURE SEND_ANALYSIS_EMAIL(\n",
        "    EMAIL_INTEGRATION STRING,\n",
        "    RECIPIENT STRING\n",
        ")\n",
        "RETURNS STRING\n",
        "LANGUAGE SQL\n",
        "AS\n",
        "$$\n",
        "DECLARE\n",
        "    analysis_summary STRING;\n",
        "BEGIN\n",
        "    -- Gather analysis summary from recent Cortex activity\n",
        "    SELECT \n",
        "        'Snowflake Intelligence Summary for ' || CURRENT_DATE() || ':\\n\\n' ||\n",
        "        'Total Cortex queries today: ' || COUNT(*) || '\\n' ||\n",
        "        'Unique users: ' || COUNT(DISTINCT USER_NAME) || '\\n' ||\n",
        "        'Most active database: ' || COALESCE(MODE(DATABASE_NAME), 'N/A') || '\\n\\n' ||\n",
        "        'Lab Agents Activity:\\n' ||\n",
        "        '- LAB1_SEARCH_AGENT: Document search queries\\n' ||\n",
        "        '- LAB2_ANALYST_AGENT: Wealth management analytics\\n' ||\n",
        "        '- LAB3_SEARCH_AGENT: Multimodal document parsing\\n\\n' ||\n",
        "        'Generated at: ' || CURRENT_TIMESTAMP()\n",
        "    INTO analysis_summary\n",
        "    FROM SNOWFLAKE.ACCOUNT_USAGE.QUERY_HISTORY\n",
        "    WHERE START_TIME >= CURRENT_DATE()\n",
        "    AND (QUERY_TEXT ILIKE '%CORTEX%' OR QUERY_TEXT ILIKE '%AGENT%');\n",
        "    \n",
        "    -- Send the email\n",
        "    CALL SYSTEM$SEND_EMAIL(\n",
        "        EMAIL_INTEGRATION,\n",
        "        RECIPIENT,\n",
        "        'Snowflake Intelligence Daily Summary - ' || CURRENT_DATE(),\n",
        "        COALESCE(analysis_summary, 'No analysis data available for today.')\n",
        "    );\n",
        "    \n",
        "    RETURN 'Email sent successfully at ' || CURRENT_TIMESTAMP();\n",
        "EXCEPTION\n",
        "    WHEN OTHER THEN\n",
        "        RETURN 'Error sending email: ' || SQLERRM;\n",
        "END;\n",
        "$$;\n",
        "\n",
        "SELECT 'Email procedure created successfully' as status;\n"
      ]
    },
    {
      "cell_type": "markdown",
      "metadata": {},
      "source": [
        "### 5.2 Create Scheduled Task\n",
        "\n",
        "This task will automatically run the email procedure on a schedule.\n"
      ]
    },
    {
      "cell_type": "code",
      "execution_count": null,
      "metadata": {
        "vscode": {
          "languageId": "sql"
        }
      },
      "outputs": [],
      "source": [
        "-- Create scheduled task for email reports\n",
        "-- Note: Update EMAIL_INTEGRATION and EMAIL_RECIPIENT in the config section before enabling\n",
        "CREATE OR REPLACE TASK EMAIL_ANALYSIS_TASK\n",
        "    WAREHOUSE = IDENTIFIER($WAREHOUSE)\n",
        "    SCHEDULE = $EMAIL_SCHEDULE\n",
        "AS\n",
        "    CALL SEND_ANALYSIS_EMAIL($EMAIL_INTEGRATION, $EMAIL_RECIPIENT);\n",
        "\n",
        "SELECT 'Email task created successfully (suspended by default)' as status;\n"
      ]
    },
    {
      "cell_type": "markdown",
      "metadata": {},
      "source": [
        "### 5.3 Enable the Email Task (Optional)\n",
        "\n",
        "Tasks are created in a suspended state by default. Run this cell when you're ready to activate automated emails.\n"
      ]
    },
    {
      "cell_type": "code",
      "execution_count": null,
      "metadata": {
        "vscode": {
          "languageId": "sql"
        }
      },
      "outputs": [],
      "source": [
        "-- Enable the email task (uncomment when ready)\n",
        "-- ALTER TASK EMAIL_ANALYSIS_TASK RESUME;\n",
        "\n",
        "SELECT 'Email task enable cell ready (uncomment to activate)' as status;\n"
      ]
    },
    {
      "cell_type": "markdown",
      "metadata": {},
      "source": [
        "## 6. Testing and Validation\n",
        "\n",
        "Let's test our agents and email functionality.\n",
        "\n",
        "### 6.1 Test Email Procedure (Optional)\n",
        "\n",
        "**Note**: Only run this if you have configured a valid email integration.\n"
      ]
    },
    {
      "cell_type": "code",
      "execution_count": null,
      "metadata": {
        "vscode": {
          "languageId": "sql"
        }
      },
      "outputs": [],
      "source": [
        "-- Test the email procedure (uncomment and update parameters if you want to test)\n",
        "-- CALL SEND_ANALYSIS_EMAIL('YOUR_EMAIL_INTEGRATION', 'recipient@example.com');\n",
        "\n",
        "SELECT 'Email test cell ready (uncomment to execute)' as status;\n"
      ]
    },
    {
      "cell_type": "markdown",
      "metadata": {},
      "source": [
        "### 6.2 Monitor Task Status\n"
      ]
    },
    {
      "cell_type": "code",
      "execution_count": null,
      "metadata": {
        "vscode": {
          "languageId": "sql"
        }
      },
      "outputs": [],
      "source": [
        "-- Check task status\n",
        "SHOW TASKS LIKE 'EMAIL_ANALYSIS_TASK';\n"
      ]
    },
    {
      "cell_type": "markdown",
      "metadata": {},
      "source": [
        "## 7. Usage in Snowflake Intelligence\n",
        "\n",
        "🎉 **Congratulations!** Your agents are now ready to use in Snowflake Intelligence.\n",
        "\n",
        "### How to Use Your Agents:\n",
        "\n",
        "1. **Navigate to Snowflake Intelligence** in your Snowflake interface\n",
        "2. **Select an agent** from the dropdown:\n",
        "   - `LAB1_SEARCH_AGENT`: Document search from Lab 1\n",
        "   - `LAB2_ANALYST_AGENT`: Wealth management analytics from Lab 2  \n",
        "   - `LAB3_SEARCH_AGENT`: Multimodal document parsing from Lab 3\n",
        "\n",
        "3. **Ask natural language questions** like:\n",
        "   - For LAB1_SEARCH_AGENT: \\\"Find documents about pension considerations\\\"\n",
        "   - For LAB2_ANALYST_AGENT: \\\"What's the total portfolio value by client segment?\\\"\n",
        "   - For LAB3_SEARCH_AGENT: \\\"Analyze the 2023 factbook for investment trends\\\"\n",
        "\n",
        "### Email Summaries:\n",
        "- Configure your email integration and recipient in the configuration section\n",
        "- Enable the task to receive daily summaries of Snowflake Intelligence activity\n",
        "- Customize the email content by modifying the `SEND_ANALYSIS_EMAIL` procedure\n"
      ]
    },
    {
      "cell_type": "markdown",
      "metadata": {},
      "source": [
        "## 8. Comprehensive Testing & Validation\n",
        "\n",
        "Let's systematically test that everything works correctly before using the agents in production.\n",
        "\n",
        "### 8.1 Prerequisites Check\n",
        "\n",
        "First, verify that all the services from Labs 1-3 actually exist.\n"
      ]
    }
  ],
  "metadata": {
    "language_info": {
      "name": "python"
    }
  },
  "nbformat": 4,
  "nbformat_minor": 2
}
