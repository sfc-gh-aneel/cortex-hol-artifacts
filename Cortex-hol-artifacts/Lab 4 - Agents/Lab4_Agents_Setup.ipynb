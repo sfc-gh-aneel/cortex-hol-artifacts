{
  "cells": [
    {
      "cell_type": "markdown",
      "metadata": {},
      "source": [
        "# Lab 4 - Cortex Agents Setup\n",
        "\n",
        "This notebook creates Snowflake Cortex Agents for the services built in Labs 1-3 and sets up an email agent for Snowflake Intelligence summaries.\n",
        "\n",
        "## What We'll Create\n",
        "- **LAB1_SEARCH_AGENT**: Agent for Lab 1 Cortex Search service (document search)\n",
        "- **LAB2_ANALYST_AGENT**: Agent for Lab 2 Cortex Analyst service (wealth management analytics)\n",
        "- **LAB3_SEARCH_AGENT**: Agent for Lab 3 Cortex Search service (multimodal document parsing)\n",
        "- **Email Infrastructure**: Stored procedure and scheduled task for Snowflake Intelligence summaries\n",
        "\n",
        "## Prerequisites\n",
        "- Completed Labs 1, 2, and 3 with their respective Cortex services\n",
        "- Appropriate privileges to create agents, procedures, and tasks\n",
        "- Email notification integration configured (for email functionality)\n",
        "\n",
        "## References\n",
        "- [Cortex Agents Documentation](https://docs.snowflake.com/en/user-guide/snowflake-cortex/cortex-agents)\n",
        "- [Snowflake Intelligence Overview](https://docs.snowflake.com/en/user-guide/snowflake-cortex/snowflake-intelligence)\n",
        "- [Snowflake Intelligence Tools](https://github.com/snowflake-procs-tg/snowflake-intelligence-tools/tree/main)\n"
      ]
    },
    {
      "cell_type": "markdown",
      "metadata": {},
      "source": [
        "## 1. Configuration\n",
        "\n",
        "First, let's set up our configuration and discover existing services from the previous labs.\n"
      ]
    },
    {
      "cell_type": "code",
      "execution_count": null,
      "metadata": {},
      "outputs": [],
      "source": [
        "-- Configuration - Update these values as needed\n",
        "SET WAREHOUSE = 'CORTEX_SEARCH_TUTORIAL_WH';\n",
        "SET ROLE = 'SYSADMIN';\n",
        "\n",
        "-- Lab 1 - Search Service Configuration\n",
        "SET LAB1_DATABASE = 'CORTEX_SEARCH_TUTORIAL_DB';\n",
        "SET LAB1_SCHEMA = 'PUBLIC';\n",
        "SET LAB1_SEARCH_SERVICE = 'DOCUMENT_SEARCH_SERVICE';\n",
        "\n",
        "-- Lab 2 - Analyst Service Configuration\n",
        "SET LAB2_DATABASE = 'CORTEX_ANALYST_DEMO';\n",
        "SET LAB2_SCHEMA = 'WEALTH_MANAGEMENT';\n",
        "SET LAB2_ANALYST_SERVICE = 'WEALTH_ANALYST_SERVICE';\n",
        "\n",
        "-- Lab 3 - Search Service Configuration\n",
        "SET LAB3_DATABASE = 'CORTEX_SEARCH_TUTORIAL_DB';\n",
        "SET LAB3_SCHEMA = 'PUBLIC';\n",
        "SET LAB3_SEARCH_SERVICE = 'DOCS_SEARCH_SERVICE';\n",
        "\n",
        "-- Email Configuration (optional)\n",
        "SET EMAIL_INTEGRATION = 'YOUR_EMAIL_INTEGRATION';  -- Update with your integration name\n",
        "SET EMAIL_RECIPIENT = 'recipient@example.com';     -- Update with recipient email\n",
        "SET EMAIL_SCHEDULE = 'USING CRON 0 9 * * * UTC';   -- Daily at 9 AM UTC\n",
        "\n",
        "SELECT 'Configuration loaded successfully!' as status,\n",
        "       'Warehouse: ' || $WAREHOUSE as warehouse_config,\n",
        "       'Role: ' || $ROLE as role_config;\n"
      ]
    },
    {
      "cell_type": "markdown",
      "metadata": {},
      "source": [
        "## 2. Environment Setup\n",
        "\n",
        "Set up the Snowflake environment and verify our services exist.\n"
      ]
    },
    {
      "cell_type": "code",
      "execution_count": null,
      "metadata": {
        "vscode": {
          "languageId": "sql"
        }
      },
      "outputs": [],
      "source": [
        "-- Set up environment\n",
        "USE ROLE IDENTIFIER($ROLE);\n",
        "USE WAREHOUSE IDENTIFIER($WAREHOUSE);\n",
        "\n",
        "SELECT 'Environment setup complete' as status;\n"
      ]
    },
    {
      "cell_type": "markdown",
      "metadata": {},
      "source": [
        "## 3. Create Cortex Agents\n",
        "\n",
        "Now let's create the Cortex Agents for each of our services. Agents provide a unified interface to interact with Cortex services through Snowflake Intelligence.\n",
        "\n",
        "### 3.1 Lab 1 Search Agent\n",
        "\n",
        "This agent will handle document search queries from Lab 1's Cortex Search service.\n"
      ]
    },
    {
      "cell_type": "code",
      "execution_count": null,
      "metadata": {
        "vscode": {
          "languageId": "sql"
        }
      },
      "outputs": [],
      "source": [
        "-- Create Lab 1 Search Agent\n",
        "-- First build the full service name\n",
        "SET FULL_SERVICE_NAME_LAB1 = $LAB1_DATABASE || '.' || $LAB1_SCHEMA || '.' || $LAB1_SEARCH_SERVICE;\n",
        "\n",
        "CREATE OR REPLACE AGENT LAB1_SEARCH_AGENT (\n",
        "  CORTEX_SEARCH_SERVICE = IDENTIFIER($FULL_SERVICE_NAME_LAB1)\n",
        ");\n",
        "\n",
        "SELECT 'Lab 1 Search Agent created successfully' as status;\n"
      ]
    },
    {
      "cell_type": "markdown",
      "metadata": {},
      "source": [
        "### 3.2 Lab 2 Analyst Agent\n",
        "\n",
        "This agent will handle wealth management analytics queries using the Cortex Analyst service from Lab 2.\n"
      ]
    },
    {
      "cell_type": "code",
      "execution_count": null,
      "metadata": {
        "vscode": {
          "languageId": "sql"
        }
      },
      "outputs": [],
      "source": [
        "-- Create Lab 2 Analyst Agent\n",
        "-- First build the full service name\n",
        "SET FULL_SERVICE_NAME_LAB2 = $LAB2_DATABASE || '.' || $LAB2_SCHEMA || '.' || $LAB2_ANALYST_SERVICE;\n",
        "\n",
        "CREATE OR REPLACE AGENT LAB2_ANALYST_AGENT (\n",
        "  CORTEX_ANALYST_SERVICE = IDENTIFIER($FULL_SERVICE_NAME_LAB2)\n",
        ");\n",
        "\n",
        "SELECT 'Lab 2 Analyst Agent created successfully' as status;\n"
      ]
    },
    {
      "cell_type": "markdown",
      "metadata": {},
      "source": [
        "### 3.3 Lab 3 Search Agent\n",
        "\n",
        "This agent will handle multimodal document parsing queries from Lab 3's enhanced Cortex Search service.\n"
      ]
    },
    {
      "cell_type": "code",
      "execution_count": null,
      "metadata": {
        "vscode": {
          "languageId": "sql"
        }
      },
      "outputs": [],
      "source": [
        "-- Create Lab 3 Search Agent\n",
        "-- First build the full service name\n",
        "SET FULL_SERVICE_NAME_LAB3 = $LAB3_DATABASE || '.' || $LAB3_SCHEMA || '.' || $LAB3_SEARCH_SERVICE;\n",
        "\n",
        "CREATE OR REPLACE AGENT LAB3_SEARCH_AGENT (\n",
        "  CORTEX_SEARCH_SERVICE = IDENTIFIER($FULL_SERVICE_NAME_LAB3)\n",
        ");\n",
        "\n",
        "SELECT 'Lab 3 Search Agent created successfully' as status;\n"
      ]
    },
    {
      "cell_type": "markdown",
      "metadata": {},
      "source": [
        "## 4. Verify Agent Creation\n",
        "\n",
        "Let's verify that all our agents were created successfully.\n"
      ]
    },
    {
      "cell_type": "code",
      "execution_count": null,
      "metadata": {
        "vscode": {
          "languageId": "sql"
        }
      },
      "outputs": [],
      "source": [
        "-- Show all agents we just created\n",
        "SHOW AGENTS LIKE '%LAB%_AGENT';\n"
      ]
    },
    {
      "cell_type": "markdown",
      "metadata": {},
      "source": [
        "## 5. Email Infrastructure for Snowflake Intelligence\n",
        "\n",
        "Now let's set up the email infrastructure to send periodic summaries of Snowflake Intelligence analyses.\n",
        "\n",
        "### 5.1 Create Email Stored Procedure\n",
        "\n",
        "This procedure will gather analysis summaries and send them via email.\n"
      ]
    },
    {
      "cell_type": "code",
      "execution_count": null,
      "metadata": {
        "vscode": {
          "languageId": "sql"
        }
      },
      "outputs": [],
      "source": [
        "-- Create stored procedure for sending analysis emails\n",
        "CREATE OR REPLACE PROCEDURE SEND_ANALYSIS_EMAIL(\n",
        "    EMAIL_INTEGRATION STRING,\n",
        "    RECIPIENT STRING\n",
        ")\n",
        "RETURNS STRING\n",
        "LANGUAGE SQL\n",
        "AS\n",
        "$$\n",
        "DECLARE\n",
        "    analysis_summary STRING;\n",
        "BEGIN\n",
        "    -- Gather analysis summary from recent Cortex activity\n",
        "    SELECT \n",
        "        'Snowflake Intelligence Summary for ' || CURRENT_DATE() || ':\\n\\n' ||\n",
        "        'Total Cortex queries today: ' || COUNT(*) || '\\n' ||\n",
        "        'Unique users: ' || COUNT(DISTINCT USER_NAME) || '\\n' ||\n",
        "        'Most active database: ' || COALESCE(MODE(DATABASE_NAME), 'N/A') || '\\n\\n' ||\n",
        "        'Lab Agents Activity:\\n' ||\n",
        "        '- LAB1_SEARCH_AGENT: Document search queries\\n' ||\n",
        "        '- LAB2_ANALYST_AGENT: Wealth management analytics\\n' ||\n",
        "        '- LAB3_SEARCH_AGENT: Multimodal document parsing\\n\\n' ||\n",
        "        'Generated at: ' || CURRENT_TIMESTAMP()\n",
        "    INTO analysis_summary\n",
        "    FROM SNOWFLAKE.ACCOUNT_USAGE.QUERY_HISTORY\n",
        "    WHERE START_TIME >= CURRENT_DATE()\n",
        "    AND (QUERY_TEXT ILIKE '%CORTEX%' OR QUERY_TEXT ILIKE '%AGENT%');\n",
        "    \n",
        "    -- Send the email\n",
        "    CALL SYSTEM$SEND_EMAIL(\n",
        "        EMAIL_INTEGRATION,\n",
        "        RECIPIENT,\n",
        "        'Snowflake Intelligence Daily Summary - ' || CURRENT_DATE(),\n",
        "        COALESCE(analysis_summary, 'No analysis data available for today.')\n",
        "    );\n",
        "    \n",
        "    RETURN 'Email sent successfully at ' || CURRENT_TIMESTAMP();\n",
        "EXCEPTION\n",
        "    WHEN OTHER THEN\n",
        "        RETURN 'Error sending email: ' || SQLERRM;\n",
        "END;\n",
        "$$;\n",
        "\n",
        "SELECT 'Email procedure created successfully' as status;\n"
      ]
    },
    {
      "cell_type": "markdown",
      "metadata": {},
      "source": [
        "### 5.2 Create Scheduled Task\n",
        "\n",
        "This task will automatically run the email procedure on a schedule.\n"
      ]
    },
    {
      "cell_type": "code",
      "execution_count": null,
      "metadata": {
        "vscode": {
          "languageId": "sql"
        }
      },
      "outputs": [],
      "source": [
        "-- Create scheduled task for email reports\n",
        "-- Note: Update EMAIL_INTEGRATION and EMAIL_RECIPIENT in the config section before enabling\n",
        "CREATE OR REPLACE TASK EMAIL_ANALYSIS_TASK\n",
        "    WAREHOUSE = IDENTIFIER($WAREHOUSE)\n",
        "    SCHEDULE = $EMAIL_SCHEDULE\n",
        "AS\n",
        "    CALL SEND_ANALYSIS_EMAIL($EMAIL_INTEGRATION, $EMAIL_RECIPIENT);\n",
        "\n",
        "SELECT 'Email task created successfully (suspended by default)' as status;\n"
      ]
    },
    {
      "cell_type": "markdown",
      "metadata": {},
      "source": [
        "### 5.3 Enable the Email Task (Optional)\n",
        "\n",
        "Tasks are created in a suspended state by default. Run this cell when you're ready to activate automated emails.\n"
      ]
    },
    {
      "cell_type": "code",
      "execution_count": null,
      "metadata": {
        "vscode": {
          "languageId": "sql"
        }
      },
      "outputs": [],
      "source": [
        "-- Enable the email task (uncomment when ready)\n",
        "-- ALTER TASK EMAIL_ANALYSIS_TASK RESUME;\n",
        "\n",
        "SELECT 'Email task enable cell ready (uncomment to activate)' as status;\n"
      ]
    },
    {
      "cell_type": "markdown",
      "metadata": {},
      "source": [
        "## 6. Testing and Validation\n",
        "\n",
        "Let's test our agents and email functionality.\n",
        "\n",
        "### 6.1 Test Email Procedure (Optional)\n",
        "\n",
        "**Note**: Only run this if you have configured a valid email integration.\n"
      ]
    },
    {
      "cell_type": "code",
      "execution_count": null,
      "metadata": {
        "vscode": {
          "languageId": "sql"
        }
      },
      "outputs": [],
      "source": [
        "-- Test the email procedure (uncomment and update parameters if you want to test)\n",
        "-- CALL SEND_ANALYSIS_EMAIL('YOUR_EMAIL_INTEGRATION', 'recipient@example.com');\n",
        "\n",
        "SELECT 'Email test cell ready (uncomment to execute)' as status;\n"
      ]
    },
    {
      "cell_type": "markdown",
      "metadata": {},
      "source": [
        "### 6.2 Monitor Task Status\n"
      ]
    },
    {
      "cell_type": "code",
      "execution_count": null,
      "metadata": {
        "vscode": {
          "languageId": "sql"
        }
      },
      "outputs": [],
      "source": [
        "-- Check task status\n",
        "SHOW TASKS LIKE 'EMAIL_ANALYSIS_TASK';\n"
      ]
    },
    {
      "cell_type": "markdown",
      "metadata": {},
      "source": [
        "## 7. Usage in Snowflake Intelligence\n",
        "\n",
        "🎉 **Congratulations!** Your agents are now ready to use in Snowflake Intelligence.\n",
        "\n",
        "### How to Use Your Agents:\n",
        "\n",
        "1. **Navigate to Snowflake Intelligence** in your Snowflake interface\n",
        "2. **Select an agent** from the dropdown:\n",
        "   - `LAB1_SEARCH_AGENT`: Document search from Lab 1\n",
        "   - `LAB2_ANALYST_AGENT`: Wealth management analytics from Lab 2  \n",
        "   - `LAB3_SEARCH_AGENT`: Multimodal document parsing from Lab 3\n",
        "\n",
        "3. **Ask natural language questions** like:\n",
        "   - For LAB1_SEARCH_AGENT: \\\"Find documents about pension considerations\\\"\n",
        "   - For LAB2_ANALYST_AGENT: \\\"What's the total portfolio value by client segment?\\\"\n",
        "   - For LAB3_SEARCH_AGENT: \\\"Analyze the 2023 factbook for investment trends\\\"\n",
        "\n",
        "### Email Summaries:\n",
        "- Configure your email integration and recipient in the configuration section\n",
        "- Enable the task to receive daily summaries of Snowflake Intelligence activity\n",
        "- Customize the email content by modifying the `SEND_ANALYSIS_EMAIL` procedure\n"
      ]
    },
    {
      "cell_type": "markdown",
      "metadata": {},
      "source": [
        "## 8. Comprehensive Testing & Validation\n",
        "\n",
        "Let's systematically test that everything works correctly before using the agents in production.\n",
        "\n",
        "### 8.1 Prerequisites Check\n",
        "\n",
        "First, verify that all the services from Labs 1-3 actually exist.\n"
      ]
    },
    {
      "cell_type": "code",
      "execution_count": null,
      "metadata": {
        "vscode": {
          "languageId": "sql"
        }
      },
      "outputs": [],
      "source": [
        "-- Test 1: Verify Lab 1 Search Service exists\n",
        "SELECT 'Testing Lab 1 Search Service...' as test_name;\n",
        "\n",
        "SHOW CORTEX SEARCH SERVICES IN SCHEMA IDENTIFIER($LAB1_DATABASE || '.' || $LAB1_SCHEMA);\n",
        "\n",
        "-- Check if our specific service exists\n",
        "SELECT \n",
        "    CASE \n",
        "        WHEN EXISTS (\n",
        "            SELECT 1 FROM TABLE(RESULT_SCAN(LAST_QUERY_ID())) \n",
        "            WHERE \"name\" = $LAB1_SEARCH_SERVICE\n",
        "        ) \n",
        "        THEN '✅ Lab 1 Search Service found: ' || $LAB1_SEARCH_SERVICE\n",
        "        ELSE '❌ Lab 1 Search Service NOT found: ' || $LAB1_SEARCH_SERVICE\n",
        "    END as lab1_status;\n"
      ]
    },
    {
      "cell_type": "code",
      "execution_count": null,
      "metadata": {
        "vscode": {
          "languageId": "sql"
        }
      },
      "outputs": [],
      "source": [
        "-- Test 2: Verify Lab 3 Search Service exists\n",
        "SELECT 'Testing Lab 3 Search Service...' as test_name;\n",
        "\n",
        "SHOW CORTEX SEARCH SERVICES IN SCHEMA IDENTIFIER($LAB3_DATABASE || '.' || $LAB3_SCHEMA);\n",
        "\n",
        "SELECT \n",
        "    CASE \n",
        "        WHEN EXISTS (\n",
        "            SELECT 1 FROM TABLE(RESULT_SCAN(LAST_QUERY_ID())) \n",
        "            WHERE \"name\" = $LAB3_SEARCH_SERVICE\n",
        "        ) \n",
        "        THEN '✅ Lab 3 Search Service found: ' || $LAB3_SEARCH_SERVICE\n",
        "        ELSE '❌ Lab 3 Search Service NOT found: ' || $LAB3_SEARCH_SERVICE\n",
        "    END as lab3_status;\n"
      ]
    },
    {
      "cell_type": "code",
      "execution_count": null,
      "metadata": {
        "vscode": {
          "languageId": "sql"
        }
      },
      "outputs": [],
      "source": [
        "-- Test 3: Verify Lab 2 Analyst components exist\n",
        "SELECT 'Testing Lab 2 Analyst components...' as test_name;\n",
        "\n",
        "-- Check if the database and schema exist\n",
        "SELECT \n",
        "    CASE \n",
        "        WHEN EXISTS (SELECT 1 FROM INFORMATION_SCHEMA.SCHEMATA \n",
        "                    WHERE CATALOG_NAME = $LAB2_DATABASE \n",
        "                    AND SCHEMA_NAME = $LAB2_SCHEMA)\n",
        "        THEN '✅ Lab 2 Database/Schema found: ' || $LAB2_DATABASE || '.' || $LAB2_SCHEMA\n",
        "        ELSE '❌ Lab 2 Database/Schema NOT found: ' || $LAB2_DATABASE || '.' || $LAB2_SCHEMA\n",
        "    END as lab2_schema_status;\n"
      ]
    },
    {
      "cell_type": "markdown",
      "metadata": {},
      "source": [
        "### 8.2 Agent Creation Verification\n",
        "\n",
        "Now let's test that our agents were created correctly and have the right configurations.\n"
      ]
    },
    {
      "cell_type": "code",
      "execution_count": null,
      "metadata": {
        "vscode": {
          "languageId": "sql"
        }
      },
      "outputs": [],
      "source": [
        "-- Test 4: Verify all agents were created\n",
        "SELECT 'Testing Agent Creation...' as test_name;\n",
        "\n",
        "SHOW AGENTS LIKE '%LAB%_AGENT';\n",
        "\n",
        "-- Get detailed agent information\n",
        "SELECT \n",
        "    \"name\" as agent_name,\n",
        "    \"service_type\",\n",
        "    \"database_name\",\n",
        "    \"schema_name\",\n",
        "    \"created_on\",\n",
        "    \"owner\",\n",
        "    CASE \n",
        "        WHEN \"name\" IN ('LAB1_SEARCH_AGENT', 'LAB2_ANALYST_AGENT', 'LAB3_SEARCH_AGENT')\n",
        "        THEN '✅ Expected agent found'\n",
        "        ELSE '⚠️ Unexpected agent'\n",
        "    END as status\n",
        "FROM TABLE(RESULT_SCAN(LAST_QUERY_ID()))\n",
        "ORDER BY \"name\";\n"
      ]
    },
    {
      "cell_type": "code",
      "execution_count": null,
      "metadata": {
        "vscode": {
          "languageId": "sql"
        }
      },
      "outputs": [],
      "source": [
        "-- Test 5: Check agent count and validate expected agents exist\n",
        "WITH expected_agents AS (\n",
        "    SELECT agent_name FROM VALUES \n",
        "    ('LAB1_SEARCH_AGENT'),\n",
        "    ('LAB2_ANALYST_AGENT'), \n",
        "    ('LAB3_SEARCH_AGENT')\n",
        "    AS t(agent_name)\n",
        "),\n",
        "actual_agents AS (\n",
        "    SELECT \"name\" as agent_name FROM TABLE(RESULT_SCAN(LAST_QUERY_ID(-1)))\n",
        "    WHERE \"name\" LIKE '%LAB%_AGENT'\n",
        ")\n",
        "SELECT \n",
        "    '🧪 Agent Validation Summary' as test_summary,\n",
        "    (SELECT COUNT(*) FROM expected_agents) as expected_count,\n",
        "    (SELECT COUNT(*) FROM actual_agents) as actual_count,\n",
        "    CASE \n",
        "        WHEN (SELECT COUNT(*) FROM expected_agents) = (SELECT COUNT(*) FROM actual_agents)\n",
        "        THEN '✅ All expected agents created'\n",
        "        ELSE '❌ Agent count mismatch'\n",
        "    END as validation_result;\n"
      ]
    },
    {
      "cell_type": "markdown",
      "metadata": {},
      "source": [
        "### 8.3 Agent Functionality Tests\n",
        "\n",
        "Let's test that each agent can actually be described and is properly configured.\n"
      ]
    },
    {
      "cell_type": "code",
      "execution_count": null,
      "metadata": {
        "vscode": {
          "languageId": "sql"
        }
      },
      "outputs": [],
      "source": [
        "-- Test 6: Describe each agent to verify configuration\n",
        "SELECT 'Testing Agent Descriptions...' as test_name;\n",
        "\n",
        "-- Test Lab 1 Search Agent\n",
        "DESCRIBE AGENT LAB1_SEARCH_AGENT;\n"
      ]
    },
    {
      "cell_type": "code",
      "execution_count": null,
      "metadata": {
        "vscode": {
          "languageId": "sql"
        }
      },
      "outputs": [],
      "source": [
        "-- Test Lab 2 Analyst Agent\n",
        "DESCRIBE AGENT LAB2_ANALYST_AGENT;\n"
      ]
    },
    {
      "cell_type": "code",
      "execution_count": null,
      "metadata": {
        "vscode": {
          "languageId": "sql"
        }
      },
      "outputs": [],
      "source": [
        "-- Test Lab 3 Search Agent\n",
        "DESCRIBE AGENT LAB3_SEARCH_AGENT;\n"
      ]
    },
    {
      "cell_type": "markdown",
      "metadata": {},
      "source": [
        "### 8.4 Email Infrastructure Tests\n",
        "\n",
        "Test the email stored procedure and task creation.\n"
      ]
    },
    {
      "cell_type": "code",
      "execution_count": null,
      "metadata": {
        "vscode": {
          "languageId": "sql"
        }
      },
      "outputs": [],
      "source": [
        "-- Test 7: Verify email procedure exists and can be described\n",
        "SELECT 'Testing Email Infrastructure...' as test_name;\n",
        "\n",
        "-- Check if the procedure exists\n",
        "SELECT \n",
        "    CASE \n",
        "        WHEN EXISTS (\n",
        "            SELECT 1 FROM INFORMATION_SCHEMA.PROCEDURES \n",
        "            WHERE PROCEDURE_NAME = 'SEND_ANALYSIS_EMAIL'\n",
        "        )\n",
        "        THEN '✅ Email procedure SEND_ANALYSIS_EMAIL found'\n",
        "        ELSE '❌ Email procedure SEND_ANALYSIS_EMAIL NOT found'\n",
        "    END as procedure_status;\n",
        "\n",
        "-- Describe the procedure\n",
        "DESCRIBE PROCEDURE SEND_ANALYSIS_EMAIL(STRING, STRING);\n"
      ]
    },
    {
      "cell_type": "code",
      "execution_count": null,
      "metadata": {
        "vscode": {
          "languageId": "sql"
        }
      },
      "outputs": [],
      "source": [
        "-- Test 8: Verify email task exists and check its configuration\n",
        "SHOW TASKS LIKE 'EMAIL_ANALYSIS_TASK';\n",
        "\n",
        "-- Check task details\n",
        "SELECT \n",
        "    \"name\" as task_name,\n",
        "    \"state\" as task_state,\n",
        "    \"schedule\" as schedule,\n",
        "    \"warehouse\" as warehouse,\n",
        "    \"created_on\",\n",
        "    CASE \n",
        "        WHEN \"state\" = 'suspended' \n",
        "        THEN '✅ Task created (suspended - ready to enable)'\n",
        "        WHEN \"state\" = 'started'\n",
        "        THEN '✅ Task created and running'\n",
        "        ELSE '⚠️ Task in unexpected state: ' || \"state\"\n",
        "    END as task_status\n",
        "FROM TABLE(RESULT_SCAN(LAST_QUERY_ID()))\n",
        "WHERE \"name\" = 'EMAIL_ANALYSIS_TASK';\n"
      ]
    },
    {
      "cell_type": "markdown",
      "metadata": {},
      "source": [
        "### 8.5 Integration Tests (Safe Dry-Run)\n",
        "\n",
        "Test that agents can be accessed and are ready for Snowflake Intelligence without actually executing searches.\n"
      ]
    },
    {
      "cell_type": "code",
      "execution_count": null,
      "metadata": {
        "vscode": {
          "languageId": "sql"
        }
      },
      "outputs": [],
      "source": [
        "-- Test 9: Verify agents are accessible from current context\n",
        "SELECT 'Testing Agent Accessibility...' as test_name;\n",
        "\n",
        "-- Test if we can show agents (this verifies permissions and accessibility)\n",
        "SHOW AGENTS;\n",
        "\n",
        "-- Count accessible agents\n",
        "SELECT \n",
        "    COUNT(*) as total_agents,\n",
        "    COUNT(CASE WHEN \"name\" LIKE '%LAB%_AGENT' THEN 1 END) as lab_agents,\n",
        "    CASE \n",
        "        WHEN COUNT(CASE WHEN \"name\" LIKE '%LAB%_AGENT' THEN 1 END) = 3\n",
        "        THEN '✅ All 3 lab agents accessible'\n",
        "        ELSE '⚠️ Expected 3 lab agents, found: ' || COUNT(CASE WHEN \"name\" LIKE '%LAB%_AGENT' THEN 1 END)\n",
        "    END as accessibility_status\n",
        "FROM TABLE(RESULT_SCAN(LAST_QUERY_ID()));\n"
      ]
    },
    {
      "cell_type": "markdown",
      "metadata": {},
      "source": [
        "### 8.6 Test Summary & Health Check\n",
        "\n",
        "Generate a comprehensive test summary to quickly assess the health of your Lab 4 setup.\n"
      ]
    },
    {
      "cell_type": "code",
      "execution_count": null,
      "metadata": {
        "vscode": {
          "languageId": "sql"
        }
      },
      "outputs": [],
      "source": [
        "-- Test 10: Comprehensive Health Check Summary\n",
        "SELECT '🏥 LAB 4 HEALTH CHECK SUMMARY' as health_check_title;\n",
        "\n",
        "-- Agent Health Check\n",
        "WITH agent_check AS (\n",
        "    SELECT COUNT(*) as agent_count\n",
        "    FROM INFORMATION_SCHEMA.CORTEX_AGENTS\n",
        "    WHERE AGENT_NAME LIKE '%LAB%_AGENT'\n",
        "),\n",
        "procedure_check AS (\n",
        "    SELECT COUNT(*) as procedure_count\n",
        "    FROM INFORMATION_SCHEMA.PROCEDURES \n",
        "    WHERE PROCEDURE_NAME = 'SEND_ANALYSIS_EMAIL'\n",
        "),\n",
        "task_check AS (\n",
        "    SELECT COUNT(*) as task_count, \n",
        "           COUNT(CASE WHEN STATE = 'suspended' THEN 1 END) as suspended_tasks\n",
        "    FROM INFORMATION_SCHEMA.TASKS\n",
        "    WHERE TASK_NAME = 'EMAIL_ANALYSIS_TASK'\n",
        ")\n",
        "SELECT \n",
        "    '📊 Component Status:' as category,\n",
        "    'Agents: ' || agent_count || '/3 expected' as agents_status,\n",
        "    'Email Procedure: ' || CASE WHEN procedure_count = 1 THEN '✅ Created' ELSE '❌ Missing' END as procedure_status,\n",
        "    'Email Task: ' || CASE WHEN task_count = 1 THEN '✅ Created (' || suspended_tasks || ' suspended)' ELSE '❌ Missing' END as task_status,\n",
        "    CASE \n",
        "        WHEN agent_count = 3 AND procedure_count = 1 AND task_count = 1\n",
        "        THEN '🎉 ALL SYSTEMS GO! Ready for Snowflake Intelligence'\n",
        "        ELSE '⚠️ Some components missing - check individual tests above'\n",
        "    END as overall_health\n",
        "FROM agent_check, procedure_check, task_check;\n"
      ]
    },
    {
      "cell_type": "markdown",
      "metadata": {},
      "source": [
        "### 8.7 Next Steps After Testing\n",
        "\n",
        "Based on your test results, here's what to do next:\n",
        "\n",
        "#### ✅ If All Tests Pass:\n",
        "1. **Navigate to Snowflake Intelligence** in your UI\n",
        "2. **Select one of your agents** from the dropdown\n",
        "3. **Try sample queries**:\n",
        "   - LAB1_SEARCH_AGENT: \"Find documents about retirement planning\"\n",
        "   - LAB2_ANALYST_AGENT: \"What's the portfolio performance by region?\"\n",
        "   - LAB3_SEARCH_AGENT: \"What are the key investment trends in 2023?\"\n",
        "\n",
        "#### ❌ If Tests Fail:\n",
        "1. **Check Prerequisites**: Ensure Labs 1-3 services exist and are accessible\n",
        "2. **Verify Permissions**: Make sure you have rights to create agents and procedures\n",
        "3. **Update Configuration**: Double-check service names in the configuration section\n",
        "4. **Check Error Messages**: Review any error output from the test cells above\n",
        "\n",
        "#### 📧 To Enable Email Summaries:\n",
        "1. **Configure Email Integration**: Set up a notification integration in Snowflake\n",
        "2. **Update Configuration**: Replace placeholder values in the configuration section\n",
        "3. **Test Email**: Uncomment and run the email test cell\n",
        "4. **Enable Task**: Uncomment the task enable command when ready\n",
        "\n",
        "#### 🔍 Troubleshooting Tips:\n",
        "- **Service Not Found**: Go back to the respective lab and verify the service was created\n",
        "- **Permission Denied**: Check that your role has the necessary privileges\n",
        "- **Agent Creation Failed**: Verify the database/schema/service names are correct\n",
        "- **Email Issues**: Ensure your notification integration is properly configured\n"
      ]
    }
  ],
  "metadata": {
    "language_info": {
      "name": "python"
    }
  },
  "nbformat": 4,
  "nbformat_minor": 2
}
